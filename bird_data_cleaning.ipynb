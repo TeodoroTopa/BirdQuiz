{
 "cells": [
  {
   "cell_type": "code",
   "execution_count": 9,
   "metadata": {},
   "outputs": [],
   "source": [
    "import hashlib\n",
    "import pandas as pd\n",
    "import numpy as np"
   ]
  },
  {
   "cell_type": "code",
   "execution_count": 10,
   "metadata": {},
   "outputs": [
    {
     "data": {
      "text/html": [
       "<div>\n",
       "<style scoped>\n",
       "    .dataframe tbody tr th:only-of-type {\n",
       "        vertical-align: middle;\n",
       "    }\n",
       "\n",
       "    .dataframe tbody tr th {\n",
       "        vertical-align: top;\n",
       "    }\n",
       "\n",
       "    .dataframe thead th {\n",
       "        text-align: right;\n",
       "    }\n",
       "</style>\n",
       "<table border=\"1\" class=\"dataframe\">\n",
       "  <thead>\n",
       "    <tr style=\"text-align: right;\">\n",
       "      <th></th>\n",
       "      <th>species</th>\n",
       "      <th>image_url</th>\n",
       "    </tr>\n",
       "  </thead>\n",
       "  <tbody>\n",
       "    <tr>\n",
       "      <th>0</th>\n",
       "      <td>Black-winged Kite\\n</td>\n",
       "      <td>https://inaturalist-open-data.s3.amazonaws.com...</td>\n",
       "    </tr>\n",
       "    <tr>\n",
       "      <th>1</th>\n",
       "      <td>African Fish Eagle\\n</td>\n",
       "      <td>https://inaturalist-open-data.s3.amazonaws.com...</td>\n",
       "    </tr>\n",
       "    <tr>\n",
       "      <th>2</th>\n",
       "      <td>Crowned Hawk-Eagle\\n</td>\n",
       "      <td>https://inaturalist-open-data.s3.amazonaws.com...</td>\n",
       "    </tr>\n",
       "    <tr>\n",
       "      <th>3</th>\n",
       "      <td>Honey Buzzard\\n</td>\n",
       "      <td>https://inaturalist-open-data.s3.amazonaws.com...</td>\n",
       "    </tr>\n",
       "    <tr>\n",
       "      <th>4</th>\n",
       "      <td>Long-crested Eagle\\n</td>\n",
       "      <td>https://inaturalist-open-data.s3.amazonaws.com...</td>\n",
       "    </tr>\n",
       "  </tbody>\n",
       "</table>\n",
       "</div>"
      ],
      "text/plain": [
       "                species                                          image_url\n",
       "0   Black-winged Kite\\n  https://inaturalist-open-data.s3.amazonaws.com...\n",
       "1  African Fish Eagle\\n  https://inaturalist-open-data.s3.amazonaws.com...\n",
       "2  Crowned Hawk-Eagle\\n  https://inaturalist-open-data.s3.amazonaws.com...\n",
       "3       Honey Buzzard\\n  https://inaturalist-open-data.s3.amazonaws.com...\n",
       "4  Long-crested Eagle\\n  https://inaturalist-open-data.s3.amazonaws.com..."
      ]
     },
     "execution_count": 10,
     "metadata": {},
     "output_type": "execute_result"
    }
   ],
   "source": [
    "birddf = pd.read_csv('bird_data.csv')\n",
    "birddf.head()"
   ]
  },
  {
   "cell_type": "code",
   "execution_count": 21,
   "metadata": {},
   "outputs": [],
   "source": [
    "filenames = []\n",
    "for url in birddf['image_url']:\n",
    "    filenames.append(hashlib.sha1(url.encode('utf-8')).hexdigest() + '.jpg')"
   ]
  },
  {
   "cell_type": "code",
   "execution_count": 23,
   "metadata": {},
   "outputs": [],
   "source": [
    "birddf['image_filename'] = filenames"
   ]
  },
  {
   "cell_type": "code",
   "execution_count": 27,
   "metadata": {},
   "outputs": [],
   "source": [
    "birddf['species'] = birddf['species'].apply(lambda x: x[:-1])"
   ]
  },
  {
   "cell_type": "code",
   "execution_count": 28,
   "metadata": {},
   "outputs": [
    {
     "data": {
      "text/html": [
       "<div>\n",
       "<style scoped>\n",
       "    .dataframe tbody tr th:only-of-type {\n",
       "        vertical-align: middle;\n",
       "    }\n",
       "\n",
       "    .dataframe tbody tr th {\n",
       "        vertical-align: top;\n",
       "    }\n",
       "\n",
       "    .dataframe thead th {\n",
       "        text-align: right;\n",
       "    }\n",
       "</style>\n",
       "<table border=\"1\" class=\"dataframe\">\n",
       "  <thead>\n",
       "    <tr style=\"text-align: right;\">\n",
       "      <th></th>\n",
       "      <th>species</th>\n",
       "      <th>image_url</th>\n",
       "      <th>image_filename</th>\n",
       "    </tr>\n",
       "  </thead>\n",
       "  <tbody>\n",
       "    <tr>\n",
       "      <th>0</th>\n",
       "      <td>Black-winged Kite</td>\n",
       "      <td>https://inaturalist-open-data.s3.amazonaws.com...</td>\n",
       "      <td>80b09a8c1cd0b382adc2c2fcfa88066be3fa4a0e.jpg</td>\n",
       "    </tr>\n",
       "    <tr>\n",
       "      <th>1</th>\n",
       "      <td>African Fish Eagle</td>\n",
       "      <td>https://inaturalist-open-data.s3.amazonaws.com...</td>\n",
       "      <td>3a8bf1812095a0da9535fc4a6b319aee26aa0b77.jpg</td>\n",
       "    </tr>\n",
       "    <tr>\n",
       "      <th>2</th>\n",
       "      <td>Crowned Hawk-Eagle</td>\n",
       "      <td>https://inaturalist-open-data.s3.amazonaws.com...</td>\n",
       "      <td>1581fc4ccc3f5fa0c98477a9df34b145fde4e952.jpg</td>\n",
       "    </tr>\n",
       "    <tr>\n",
       "      <th>3</th>\n",
       "      <td>Honey Buzzard</td>\n",
       "      <td>https://inaturalist-open-data.s3.amazonaws.com...</td>\n",
       "      <td>7a2041ddc52c60a18ce661fba75b2aa8686ce7d5.jpg</td>\n",
       "    </tr>\n",
       "    <tr>\n",
       "      <th>4</th>\n",
       "      <td>Long-crested Eagle</td>\n",
       "      <td>https://inaturalist-open-data.s3.amazonaws.com...</td>\n",
       "      <td>82825f32ea5872977656e3f62bdca8bdc8e0a6e9.jpg</td>\n",
       "    </tr>\n",
       "    <tr>\n",
       "      <th>...</th>\n",
       "      <td>...</td>\n",
       "      <td>...</td>\n",
       "      <td>...</td>\n",
       "    </tr>\n",
       "    <tr>\n",
       "      <th>495</th>\n",
       "      <td>Short-toed Eagle</td>\n",
       "      <td>https://inaturalist-open-data.s3.amazonaws.com...</td>\n",
       "      <td>09b2472cc749415c23c863f2a83d5148b568119c.jpg</td>\n",
       "    </tr>\n",
       "    <tr>\n",
       "      <th>496</th>\n",
       "      <td>Black-breasted Snake Eagle</td>\n",
       "      <td>https://inaturalist-open-data.s3.amazonaws.com...</td>\n",
       "      <td>610dade11602c9704884adc3f2a1083f72878fc1.jpg</td>\n",
       "    </tr>\n",
       "    <tr>\n",
       "      <th>497</th>\n",
       "      <td>African Harrier-Hawk</td>\n",
       "      <td>https://inaturalist-open-data.s3.amazonaws.com...</td>\n",
       "      <td>1d0bd3b37205118dee528bca483b050889f1f700.jpg</td>\n",
       "    </tr>\n",
       "    <tr>\n",
       "      <th>498</th>\n",
       "      <td>African Cuckoo-Hawk</td>\n",
       "      <td>https://inaturalist-open-data.s3.amazonaws.com...</td>\n",
       "      <td>93ca05eb70d6ef330082fdce8b22f438d2d2e981.jpg</td>\n",
       "    </tr>\n",
       "    <tr>\n",
       "      <th>499</th>\n",
       "      <td>Black Kite</td>\n",
       "      <td>https://inaturalist-open-data.s3.amazonaws.com...</td>\n",
       "      <td>7763db8c56420847e72f9016bdb6f3a6aa52a06d.jpg</td>\n",
       "    </tr>\n",
       "  </tbody>\n",
       "</table>\n",
       "<p>500 rows × 3 columns</p>\n",
       "</div>"
      ],
      "text/plain": [
       "                        species  \\\n",
       "0             Black-winged Kite   \n",
       "1            African Fish Eagle   \n",
       "2            Crowned Hawk-Eagle   \n",
       "3                 Honey Buzzard   \n",
       "4            Long-crested Eagle   \n",
       "..                          ...   \n",
       "495            Short-toed Eagle   \n",
       "496  Black-breasted Snake Eagle   \n",
       "497        African Harrier-Hawk   \n",
       "498         African Cuckoo-Hawk   \n",
       "499                  Black Kite   \n",
       "\n",
       "                                             image_url  \\\n",
       "0    https://inaturalist-open-data.s3.amazonaws.com...   \n",
       "1    https://inaturalist-open-data.s3.amazonaws.com...   \n",
       "2    https://inaturalist-open-data.s3.amazonaws.com...   \n",
       "3    https://inaturalist-open-data.s3.amazonaws.com...   \n",
       "4    https://inaturalist-open-data.s3.amazonaws.com...   \n",
       "..                                                 ...   \n",
       "495  https://inaturalist-open-data.s3.amazonaws.com...   \n",
       "496  https://inaturalist-open-data.s3.amazonaws.com...   \n",
       "497  https://inaturalist-open-data.s3.amazonaws.com...   \n",
       "498  https://inaturalist-open-data.s3.amazonaws.com...   \n",
       "499  https://inaturalist-open-data.s3.amazonaws.com...   \n",
       "\n",
       "                                   image_filename  \n",
       "0    80b09a8c1cd0b382adc2c2fcfa88066be3fa4a0e.jpg  \n",
       "1    3a8bf1812095a0da9535fc4a6b319aee26aa0b77.jpg  \n",
       "2    1581fc4ccc3f5fa0c98477a9df34b145fde4e952.jpg  \n",
       "3    7a2041ddc52c60a18ce661fba75b2aa8686ce7d5.jpg  \n",
       "4    82825f32ea5872977656e3f62bdca8bdc8e0a6e9.jpg  \n",
       "..                                            ...  \n",
       "495  09b2472cc749415c23c863f2a83d5148b568119c.jpg  \n",
       "496  610dade11602c9704884adc3f2a1083f72878fc1.jpg  \n",
       "497  1d0bd3b37205118dee528bca483b050889f1f700.jpg  \n",
       "498  93ca05eb70d6ef330082fdce8b22f438d2d2e981.jpg  \n",
       "499  7763db8c56420847e72f9016bdb6f3a6aa52a06d.jpg  \n",
       "\n",
       "[500 rows x 3 columns]"
      ]
     },
     "execution_count": 28,
     "metadata": {},
     "output_type": "execute_result"
    }
   ],
   "source": [
    "birddf"
   ]
  },
  {
   "cell_type": "code",
   "execution_count": 29,
   "metadata": {},
   "outputs": [],
   "source": [
    "birddf.to_csv('bird_data_clean.csv', index = False)"
   ]
  }
 ],
 "metadata": {
  "kernelspec": {
   "display_name": "Python 3",
   "language": "python",
   "name": "python3"
  },
  "language_info": {
   "codemirror_mode": {
    "name": "ipython",
    "version": 3
   },
   "file_extension": ".py",
   "mimetype": "text/x-python",
   "name": "python",
   "nbconvert_exporter": "python",
   "pygments_lexer": "ipython3",
   "version": "3.8.3"
  }
 },
 "nbformat": 4,
 "nbformat_minor": 4
}
